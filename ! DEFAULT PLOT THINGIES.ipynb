{
 "cells": [
  {
   "cell_type": "markdown",
   "metadata": {},
   "source": [
    "The following is the default initialisation code. Use (?) it from another notebook using\n",
    "\n",
    "```\n",
    "%run \"! DEFAULT PLOT THINGIES.ipynb\"\n",
    "%run \"../! DEFAULT PLOT THINGIES.ipynb\"\n",
    "```\n",
    "\n",
    "and all should be 'swell. (the double run is necessary for after the chdir)"
   ]
  },
  {
   "cell_type": "code",
   "execution_count": 12,
   "metadata": {
    "collapsed": false
   },
   "outputs": [
    {
     "data": {
      "application/javascript": [
       "var kernel = IPython.notebook.kernel;\n",
       "var thename = window.document.getElementById(\"notebook_name\").innerHTML;\n",
       "var command = \"theNotebook = \" + \"'\"+thename+\"'; dochdir()\";\n",
       "kernel.execute(command);"
      ],
      "text/plain": [
       "<IPython.core.display.Javascript at 0x3d172e8>"
      ]
     },
     "metadata": {},
     "output_type": "display_data"
    }
   ],
   "source": [
    "%%javascript\n",
    "var kernel = IPython.notebook.kernel;\n",
    "var thename = window.document.getElementById(\"notebook_name\").innerHTML;\n",
    "var command = \"theNotebook = \" + \"'\"+thename+\"'\";\n",
    "kernel.execute(command);"
   ]
  },
  {
   "cell_type": "code",
   "execution_count": null,
   "metadata": {
    "collapsed": false
   },
   "outputs": [],
   "source": [
    "import os, socket, IPython\n",
    "\n",
    "basedir = {\"MEETPC116\": \"c:/users/deen/dropbox/phd rearrangements/thesis/notebooks\"}[socket.gethostname()]\n",
    "try:\n",
    "    path = os.path.join(basedir, theNotebook)\n",
    "    \n",
    "    if \"_\" in theNotebook:\n",
    "        raise Exception(\"Notebook name must not contain underscores, or LaTeX will complain!\")\n",
    "\n",
    "    if not theNotebook.startswith(\"!\"):\n",
    "        try:\n",
    "            os.makedirs(path)\n",
    "        except OSError:\n",
    "            pass\n",
    "\n",
    "        os.chdir(path)\n",
    "        print \"Current working directory is now\", os.getcwd()\n",
    "except NameError:\n",
    "    print \"Please re-run this cell (should be automagic, but what can one do...)\"\n",
    "    \n",
    "    IPython.core.display.display_javascript(\"\"\" \n",
    "    var c = IPython.notebook.get_cell(0);\n",
    "    if (c.element[0].innerHTML.substr(\"! DEFAULT PLOT THINGIES.ipynb\") != 1) {\n",
    "        c.execute();\n",
    "    }\"\"\", raw=True)"
   ]
  },
  {
   "cell_type": "code",
   "execution_count": 1,
   "metadata": {
    "collapsed": false
   },
   "outputs": [
    {
     "name": "stdout",
     "output_type": "stream",
     "text": [
      "Populating the interactive namespace from numpy and matplotlib\n"
     ]
    }
   ],
   "source": [
    "# This cell sets up plotting parameters. The most relevant settings are\n",
    "# fig_size, half_fig_size and fpf_size, which determine the size of a\n",
    "# full-width, half-width or a full-page figure. The figure width has\n",
    "# been determined from LaTeX, as decribed at\n",
    "# http://scipy-cookbook.readthedocs.io/items/Matplotlib_LaTeX_Examples.html\n",
    "\n",
    "%pylab inline\n",
    "from __future__ import division\n",
    "import glob\n",
    "import sys, os\n",
    "import pandas\n",
    "import pandas as pd\n",
    "\n",
    "fig_width_pt = 355 #pt; ~165 mm\n",
    "inches_per_pt = 1.0/72.27               # Convert pt to inches\n",
    "golden_mean = (sqrt(5)-1.0)/2.0         # Aesthetic ratio\n",
    "fig_width = fig_width_pt*inches_per_pt  # width in inches\n",
    "fig_height =fig_width/1.5     # height in inches\n",
    "\n",
    "fig_size = [fig_width,fig_width/2.05] #fig_height]\n",
    "half_fig_size = [fig_width/2.05, fig_width/2.05]\n",
    "\n",
    "fig_sppars_dict = dict(left = 0.125, bottom=0.19, right=0.97, top=0.94)\n",
    "fig_sppars = mpl.figure.SubplotParams(**fig_sppars_dict)\n",
    "\n",
    "half_fig_sppars_dict = dict(left = fig_sppars.left*2,\n",
    "                            bottom = fig_sppars.bottom,\n",
    "                            right = 1-(1-fig_sppars.right)*2,\n",
    "                            top = fig_sppars.top)\n",
    "half_fig_sppars = mpl.figure.SubplotParams(**half_fig_sppars_dict)\n",
    "\n",
    "fpf_width_pt = 512\n",
    "fpf_height_pt = 355 - 20 # 20 pt for caption\n",
    "fpf_width = fpf_width_pt * inches_per_pt\n",
    "fpf_height = fpf_height_pt * inches_per_pt\n",
    "fpf_size = [fpf_width, fpf_height]\n",
    "\n",
    "fpf_sppars_dict = dict(\n",
    "    left = fig_sppars.left * fig_width / fpf_width,\n",
    "    bottom = fig_sppars.bottom * fig_height / fpf_height,\n",
    "    right = 1 - (1 - fig_sppars.right) * fig_width / fpf_width,\n",
    "    top = 1 - (1 - fig_sppars.top) * fig_height / fpf_height\n",
    ")\n",
    "\n",
    "fpf_sppars = mpl.figure.SubplotParams(**fpf_sppars_dict)\n",
    "\n",
    "def reset_subplots_adjust():\n",
    "    fig = plt.gcf()\n",
    "    if fig.subplotpars == fig_sppars:\n",
    "        subplots_adjust(**fig_sppars_dict)\n",
    "    elif fig.subplotpars == half_fig_sppars:\n",
    "        subplots_adjust(**half_fig_sppars_dict)\n",
    "    elif fig.subplotpars == fpf_sppars:\n",
    "        subplots_adjust(**fpf_sppars)\n",
    "    else:\n",
    "        raise Exception('unknown subplotparams!')\n",
    "\n",
    "    \n",
    "rc('text.latex', preamble = r\"\\usepackage{mathpazo}\\usepackage{nicefrac}\")\n",
    "rc('text', usetex=True)\n",
    "rc('figure', figsize=fig_size)\n",
    "rc('font', size=10)\n",
    "rc('font', family='serif')\n",
    "rc('savefig', dpi=300)\n",
    "\n",
    "rc('image', cmap='viridis')\n",
    "\n",
    "\n",
    "def fullfig(**kwargs):\n",
    "    params = {'figsize': fig_size[:], 'subplotpars': fig_sppars}\n",
    "    params.update(kwargs)\n",
    "    if 'hf' in params:\n",
    "        params['figsize'][1] *= params.pop('hf')\n",
    "    return figure(**params)\n",
    "\n",
    "def halffig(**kwargs):\n",
    "    params = {'figsize': half_fig_size[:], 'subplotpars': half_fig_sppars}\n",
    "    params.update(kwargs)\n",
    "    if 'hf' in params:\n",
    "        params['figsize'][1] *= params.pop('hf')\n",
    "    return figure(**params)\n",
    "\n",
    "def pagefig(**kwargs):\n",
    "    params = {'figsize': fpf_size[:], 'subplotpars': fpf_sppars}\n",
    "    params.update(kwargs)\n",
    "    if 'hf' in params:\n",
    "        params['figsize'][1] *= params.pop('hf')\n",
    "    return figure(**params)    \n",
    "\n",
    "def subplotlabel(label, loc='upper left', offsetx=6, offsety=6, ax=None, **kwargs):\n",
    "    \"\"\" e.g. subplotlabel('(a)', 'upper right')\n",
    "    upper/lower, left/right are accepted\n",
    "    offset is in bbox width units\n",
    "    \"\"\"\n",
    "\n",
    "    if ax is None:\n",
    "        ax = gca()\n",
    "    \n",
    "    v,h = loc.split(' ')\n",
    "    \n",
    "    axh = ax.bbox.height\n",
    "    axw = ax.bbox.width\n",
    "    \n",
    "    if v == 'upper':\n",
    "        va = 'top'\n",
    "        y = 1-offsety/axh\n",
    "    elif v == 'lower':\n",
    "        va = 'bottom'\n",
    "        y = offsety/axh\n",
    "    else:\n",
    "        raise Exception('unknown location')\n",
    "\n",
    "    if h == 'left':\n",
    "        ha = 'left'\n",
    "        x = offsetx/axw\n",
    "    elif h == 'right':\n",
    "        ha = 'right'\n",
    "        x = 1-offsetx/axw\n",
    "    else:\n",
    "        raise Exception('unknown location')\n",
    "\n",
    "    kw = dict(transform=ax.transAxes,\n",
    "              verticalalignment=va,\n",
    "              horizontalalignment=ha,\n",
    "              size='x-large',\n",
    "              zorder=-1)\n",
    "    kw.update(kwargs)\n",
    "    return ax.text(x, y, label, **kw)"
   ]
  },
  {
   "cell_type": "markdown",
   "metadata": {},
   "source": [
    "Preparation\n",
    "-----------\n",
    "\n",
    "We only look at packings which meet the following basic requirements:\n",
    "\n",
    "1. $10^{-7} \\leq P \\leq 10^{-1.5}$\n",
    "2. $|\\sigma_{xy, \\textrm{base}}| < 10^{-15}$ (packing equilibration)\n",
    "3. $|\\max(\\nabla U)/P| < 10^{-8}$ (packing equilibration)\n",
    "\n",
    "Then, during shear, they must also conform to the following two rules:\n",
    "\n",
    "1. $N_\\textrm{eff}^+ \\leq N_\\textrm{eff}^-$: events where rattlers becoming non-rattlers are ill-defined\n",
    "2. $N^+ = 0$ and $N^- > 0$ _or_ $N^+ > 0$ and $N^- = 0$ (no composite events)\n",
    "\n",
    "Last, but not least, we only include $(N,P)$ sets that have at least 20 conforming packings.\n"
   ]
  },
  {
   "cell_type": "code",
   "execution_count": 3,
   "metadata": {
    "collapsed": false
   },
   "outputs": [
    {
     "name": "stdout",
     "output_type": "stream",
     "text": [
      "Populating the interactive namespace from numpy and matplotlib\n",
      "801\n",
      "Total # of packings:  83006\n",
      "After (1.1):  68835\n",
      "After (1.2):  62275\n",
      "After (1.3):  61147\n",
      "After (2.1):  60232\n",
      "After (2.2):  59847\n",
      "(3):\n",
      "   512 -6.5 skipped (only 7 packings)\n",
      "   724 -7.0 skipped (only 19 packings)\n",
      "   1024 -6.83 skipped (only 4 packings)\n",
      "   1024 -6.67 skipped (only 10 packings)\n",
      "   1024 -6.5 skipped (only 17 packings)\n",
      "   1024 -6.33 skipped (only 16 packings)\n",
      "   4096 -4.0 skipped (only 12 packings)\n",
      "   4096 -3.0 skipped (only 13 packings)\n",
      "   4096 -2.0 skipped (only 18 packings)\n",
      "After (3):  59731\n",
      "243\n"
     ]
    },
    {
     "name": "stderr",
     "output_type": "stream",
     "text": [
      "C:\\Python27\\lib\\site-packages\\IPython\\kernel\\__main__.py:19: RuntimeWarning: invalid value encountered in absolute\n",
      "C:\\Python27\\lib\\site-packages\\IPython\\kernel\\__main__.py:19: RuntimeWarning: invalid value encountered in less\n",
      "C:\\Python27\\lib\\site-packages\\IPython\\kernel\\__main__.py:23: RuntimeWarning: invalid value encountered in less\n"
     ]
    }
   ],
   "source": [
    "import tables\n",
    "base = \"E:/PhD rearrangements/auto/\"\n",
    "summ = tables.File(base + \"h5/shear_summary_cache.h5\").root.data.read()\n",
    "\n",
    "dataN = summ[\"N\"]\n",
    "datalP = around(log10(summ[\"P\"]),2)\n",
    "\n",
    "#print \"Total # of packings: \", len(summ)\n",
    "\n",
    "# (1.1) pressure\n",
    "mask = (datalP >= -7) * (datalP <= -1.5)\n",
    "#print \"After (1.1): \", len(summ[mask])\n",
    "\n",
    "# (1.2) convergence initial packing\n",
    "mask *= (abs(summ[\"sxy_base\"]) < 1e-15)\n",
    "#print \"After (1.2): \", len(summ[mask])\n",
    "\n",
    "# (1.3) convergence initial packing\n",
    "mask *= (abs(summ[\"maxGrad_base\"] / summ[\"P\"]) < 1e-8)\n",
    "#print \"After (1.3): \", len(summ[mask])\n",
    "\n",
    "# (2.1) no rattlers -> non-rattlers\n",
    "mask *= (summ[\"Neff_plus\"] <= summ[\"Neff_min\"])\n",
    "#print \"After (2.1): \", len(summ[mask])\n",
    "\n",
    "# (2.2) no composite events\n",
    "mask *= logical_or( (summ[\"N+_plus\"] == 0) * (summ[\"N-_plus\"] >  0),\n",
    "                    (summ[\"N+_plus\"] >  0) * (summ[\"N-_plus\"] == 0)\n",
    "        )\n",
    "#print \"After (2.2): \", len(summ[mask])\n",
    "\n",
    "# (3) only NP sets with more than 20 data points\n",
    "#print \"(3):\"\n",
    "for N in unique(dataN):\n",
    "    for lP in unique(datalP):\n",
    "        thisNPmask = mask * (dataN == N) * (datalP == lP)\n",
    "        numpacks = len(summ[thisNPmask])\n",
    "        if numpacks < 20:\n",
    "            if numpacks > 0:\n",
    "                #print \"  \", N, lP, \"skipped (only\", numpacks, \"packings)\"\n",
    "                mask[thisNPmask] = 0\n",
    "\n",
    "#print \"After (3): \", len(summ[mask])\n",
    "\n",
    "summ = summ[mask]\n",
    "dataN = summ[\"N\"]\n",
    "datalP = around(log10(summ[\"P\"]),2)"
   ]
  },
  {
   "cell_type": "code",
   "execution_count": null,
   "metadata": {
    "collapsed": false
   },
   "outputs": [],
   "source": [
    "import json\n",
    "all_biax_measurements = json.load(open(\"u:/biax_metingen_shear.json\"))\n",
    "\n",
    "phi_norm = mpl.colors.Normalize(vmin=0.8, vmax=1.6)\n",
    "phi_cmap = plt.get_cmap('viridis_r')"
   ]
  },
  {
   "cell_type": "code",
   "execution_count": null,
   "metadata": {
    "collapsed": false
   },
   "outputs": [],
   "source": [
    "import sys\n",
    "sys.path.append(\"d:/my documents/phd-library\")\n",
    "sys.path.append(r\"C:\\Users\\deen\\Dropbox\\PhD Rearrangements\\figs\")\n",
    "from plotprint import printer"
   ]
  },
  {
   "cell_type": "code",
   "execution_count": null,
   "metadata": {
    "collapsed": false
   },
   "outputs": [],
   "source": [
    "from IPython.core.display import display_html, HTML\n",
    "\n",
    "def hprint(h):\n",
    "    display_html(HTML(h))"
   ]
  },
  {
   "cell_type": "code",
   "execution_count": null,
   "metadata": {
    "collapsed": false
   },
   "outputs": [],
   "source": [
    "#white = array([1,1,1])\n",
    "red = array([1,0,0])\n",
    "blue = array([0,0,1])\n",
    "\n",
    "mnlN = log10(16)\n",
    "mxlN = log10(4096)\n",
    "\n",
    "#orange = array([1,.4,0])\n",
    "#brown = array([139,69,19])/256.\n",
    "\n",
    "#cmap = matplotlib\n",
    "#cmap, norm = mpl.colors.from_levels_and_colors(np.arange(-0.5,7,1), colors)\n",
    "\n",
    "import matplotlib\n",
    "NPcmap = matplotlib.colors.LinearSegmentedColormap.from_list(\"BuPuRd\", [blue, red])\n",
    "NPnorm = matplotlib.colors.LogNorm(vmin=16, vmax=4096)\n",
    "\n",
    "def NPmapper(N,P):\n",
    "    rv = {'marker': {16: \"o\", 22: \"v\", 32: \"D\", 64: \"^\", 128: \"p\", 256: \"*\", 512: \"s\", 1024: \"<\", 2048: \"d\", 4096: \">\"}.get(N, \"o\")}\n",
    "    scl = (log10(N) - mnlN) / (mxlN - mnlN)\n",
    "    \n",
    "    if N <= 32:\n",
    "        rv[\"marker\"] = \"<\"\n",
    "    elif N <= 512:\n",
    "        rv[\"marker\"] = \"s\"\n",
    "    else:\n",
    "        rv[\"marker\"] = \">\"\n",
    "\n",
    "    rv[\"color\"] = \"white\"\n",
    "    \n",
    "    rv[\"mec\"] = NPcmap(NPnorm(N)) #blue + (red-blue) * scl\n",
    "    return rv"
   ]
  },
  {
   "cell_type": "code",
   "execution_count": 6,
   "metadata": {
    "collapsed": true
   },
   "outputs": [],
   "source": []
  },
  {
   "cell_type": "code",
   "execution_count": null,
   "metadata": {
    "collapsed": true
   },
   "outputs": [],
   "source": [
    "try:\n",
    "    if _oldsavefig:\n",
    "        assert(_oldsavefig.__module__ != '__main__')\n",
    "    else:\n",
    "        raise Exception('dit kan niet')\n",
    "except NameError:\n",
    "    _oldsavefig = plt.savefig\n",
    "\n",
    "from functools import wraps\n",
    "\n",
    "def decorator(f):\n",
    "    def _decorator(fn, *args, **kwargs):\n",
    "        print r\"\\includegraphics{notebooks/%s/%s}\" % (theNotebook, fn)\n",
    "        return f(fn, *args, **kwargs)\n",
    "    _decorator.__doc__ = f.__doc__\n",
    "    return _decorator\n",
    "\n",
    "plt.savefig = decorator(_oldsavefig)\n",
    "savefig = plt.savefig"
   ]
  }
 ],
 "metadata": {
  "kernelspec": {
   "display_name": "Python 2",
   "language": "python",
   "name": "python2"
  },
  "language_info": {
   "codemirror_mode": {
    "name": "ipython",
    "version": 2
   },
   "file_extension": ".py",
   "mimetype": "text/x-python",
   "name": "python",
   "nbconvert_exporter": "python",
   "pygments_lexer": "ipython2",
   "version": "2.7.6"
  }
 },
 "nbformat": 4,
 "nbformat_minor": 0
}
