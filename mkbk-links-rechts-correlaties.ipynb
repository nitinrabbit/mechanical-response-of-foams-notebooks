{
 "cells": [
  {
   "cell_type": "code",
   "execution_count": 9,
   "metadata": {
    "ExecuteTime": {
     "end_time": "2016-08-02T17:23:39.670000",
     "start_time": "2016-08-02T17:23:38.774000"
    },
    "collapsed": false
   },
   "outputs": [
    {
     "name": "stderr",
     "output_type": "stream",
     "text": [
      "ERROR: File `u'! DEFAULT PLOT THINGIES.ipynb.py'` not found.\n"
     ]
    },
    {
     "data": {
      "application/javascript": [
       "var kernel = IPython.notebook.kernel;\n",
       "var thename = window.document.getElementById(\"notebook_name\").innerHTML;\n",
       "var command = \"theNotebook = \" + \"'\"+thename+\"'\";\n",
       "kernel.execute(command);"
      ],
      "text/plain": [
       "<IPython.core.display.Javascript object>"
      ]
     },
     "metadata": {},
     "output_type": "display_data"
    },
    {
     "name": "stderr",
     "output_type": "stream",
     "text": [
      "WARNING: pylab import has clobbered these variables: ['savefig']\n",
      "`%matplotlib` prevents importing * from pylab and numpy\n"
     ]
    },
    {
     "name": "stdout",
     "output_type": "stream",
     "text": [
      "Current working directory is now c:\\users\\deen\\dropbox\\phd rearrangements\\thesis\\notebooks\\mkbk-links-rechts-correlaties\n",
      "Populating the interactive namespace from numpy and matplotlib\n"
     ]
    }
   ],
   "source": [
    "%run \"! DEFAULT PLOT THINGIES.ipynb\"\n",
    "%run \"../! DEFAULT PLOT THINGIES.ipynb\"\n",
    "\n",
    "from __future__ import division"
   ]
  },
  {
   "cell_type": "code",
   "execution_count": 10,
   "metadata": {
    "ExecuteTime": {
     "end_time": "2016-08-02T17:23:42.957000",
     "start_time": "2016-08-02T17:23:42.919000"
    },
    "collapsed": false
   },
   "outputs": [],
   "source": [
    "reverseshear = tables.File(r\"E:\\PhD rearrangements\\auto\\reverse_shear\\shear_summary_cache.h5\").root.data.read()"
   ]
  },
  {
   "cell_type": "code",
   "execution_count": 11,
   "metadata": {
    "ExecuteTime": {
     "end_time": "2016-08-02T17:23:43.552000",
     "start_time": "2016-08-02T17:23:43.534000"
    },
    "collapsed": false
   },
   "outputs": [
    {
     "data": {
      "text/plain": [
       "array([   -6.,    -3.,    16.,   256.,  1024.])"
      ]
     },
     "execution_count": 11,
     "metadata": {},
     "output_type": "execute_result"
    }
   ],
   "source": [
    "rN = reverseshear[\"N\"]\n",
    "Ns = np.unique(rN)\n",
    "rlP = np.round(np.log10(reverseshear[\"P\"]),2)\n",
    "lPs = np.unique(rlP)\n",
    "\n",
    "np.unique(zip(rN, rlP))"
   ]
  },
  {
   "cell_type": "code",
   "execution_count": 12,
   "metadata": {
    "ExecuteTime": {
     "end_time": "2016-08-02T17:23:44.266000",
     "start_time": "2016-08-02T17:23:44.255000"
    },
    "collapsed": true
   },
   "outputs": [],
   "source": [
    "def getidx(pack):\n",
    "    # mk bk mx\n",
    "\n",
    "    if pack[\"N+_plus\"] == 0 and pack[\"N-_plus\"] > 0:\n",
    "        return 0\n",
    "    elif pack[\"N+_plus\"] > 0 and pack[\"N-_plus\"] == 0:\n",
    "        return 1\n",
    "    else:\n",
    "        return 2\n"
   ]
  },
  {
   "cell_type": "code",
   "execution_count": 13,
   "metadata": {
    "ExecuteTime": {
     "end_time": "2016-08-02T17:23:45.562000",
     "start_time": "2016-08-02T17:23:44.913000"
    },
    "collapsed": false
   },
   "outputs": [
    {
     "name": "stdout",
     "output_type": "stream",
     "text": [
      "256 -3\n",
      "    bk    mk\n",
      "[[ 412.  239.]\n",
      " [ 198.  129.]]\n",
      "[[ 406.04294479  244.95705521]\n",
      " [ 203.95705521  123.04294479]]\n",
      "chisq =  0.688925388433\n",
      "\n"
     ]
    }
   ],
   "source": [
    "for N in [256]:\n",
    "    for lP in [-3]:\n",
    "        print N, lP\n",
    "        print \"    bk    mk\"\n",
    "        \n",
    "        data = np.zeros((3,3))\n",
    "\n",
    "        for revpack in reverseshear[(rN == N) * (rlP == lP)]:\n",
    "            try:\n",
    "                fwdpack = summ[(dataN == N) * (datalP == lP) * (summ[\"num\"] == revpack[\"num\"])][0]\n",
    "            except IndexError:\n",
    "                pass\n",
    "            data[getidx(fwdpack), getidx(revpack)] += 1\n",
    "\n",
    "        Oij = data[:2,:2]\n",
    "        \n",
    "        # expected cts\n",
    "        Eij = np.tile(np.nan, (2,2))\n",
    "        for i in [0,1]:\n",
    "            for j in [0,1]:\n",
    "                Eij[i,j] = np.sum(Oij[i]) * np.sum(Oij[:,j]) / np.sum(Oij)\n",
    "                \n",
    "        print Oij\n",
    "        print Eij\n",
    "        \n",
    "        print \"chisq = \", np.sum((Oij-Eij)**2 / Oij)\n",
    "        \n",
    "        \n",
    "        \n",
    "        print \"\""
   ]
  }
 ],
 "metadata": {
  "kernelspec": {
   "display_name": "Python 2",
   "language": "python",
   "name": "python2"
  },
  "language_info": {
   "codemirror_mode": {
    "name": "ipython",
    "version": 2
   },
   "file_extension": ".py",
   "mimetype": "text/x-python",
   "name": "python",
   "nbconvert_exporter": "python",
   "pygments_lexer": "ipython2",
   "version": "2.7.6"
  }
 },
 "nbformat": 4,
 "nbformat_minor": 0
}
