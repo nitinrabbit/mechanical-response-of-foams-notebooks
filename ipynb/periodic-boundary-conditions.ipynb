{
 "cells": [
  {
   "cell_type": "code",
   "execution_count": 2,
   "metadata": {
    "collapsed": false
   },
   "outputs": [
    {
     "data": {
      "application/javascript": [
       " \n",
       "    var c = IPython.notebook.get_cell(0);\n",
       "    if (c.element[0].innerHTML.substr(\"! DEFAULT PLOT THINGIES.ipynb\") != 1) {\n",
       "        c.execute();\n",
       "    }"
      ]
     },
     "metadata": {},
     "output_type": "display_data"
    },
    {
     "data": {
      "application/javascript": [
       "var kernel = IPython.notebook.kernel;\n",
       "var thename = window.document.getElementById(\"notebook_name\").innerHTML;\n",
       "var command = \"theNotebook = \" + \"'\"+thename+\"'\";\n",
       "kernel.execute(command);"
      ],
      "text/plain": [
       "<IPython.core.display.Javascript object>"
      ]
     },
     "metadata": {},
     "output_type": "display_data"
    },
    {
     "name": "stdout",
     "output_type": "stream",
     "text": [
      "Current working directory is now c:\\users\\deen\\dropbox\\phd rearrangements\\thesis\\notebooks\\periodic-boundary-conditions\n",
      "Populating the interactive namespace from numpy and matplotlib\n",
      "Total # of packings: "
     ]
    },
    {
     "name": "stderr",
     "output_type": "stream",
     "text": [
      "WARNING: pylab import has clobbered these variables: ['savefig']\n",
      "`%matplotlib` prevents importing * from pylab and numpy\n",
      "C:\\Python27\\lib\\site-packages\\IPython\\kernel\\__main__.py:15: RuntimeWarning: invalid value encountered in absolute\n"
     ]
    },
    {
     "name": "stdout",
     "output_type": "stream",
     "text": [
      " 83006\n",
      "After (1.1):  68835\n",
      "After (1.2):  62275\n",
      "After (1.3):  61147\n",
      "After (2.1):  60232\n",
      "After (2.2):  59847\n",
      "(3):\n",
      "   512 -6.5 skipped (only 7 packings)\n",
      "   724 -7.0 skipped (only 19 packings)\n",
      "   1024 -6.83 skipped (only 4 packings)\n",
      "   1024 -6.67 skipped (only 10 packings)\n",
      "   1024 -6.5 skipped (only 17 packings)\n",
      "   1024 -6.33 skipped (only 16 packings)\n",
      "   4096 -4.0 skipped (only 12 packings)\n",
      "   4096 -3.0 skipped (only 13 packings)\n",
      "   4096 -2.0 skipped (only 18 packings)\n",
      "After (3):  59731\n"
     ]
    },
    {
     "name": "stderr",
     "output_type": "stream",
     "text": [
      "C:\\Python27\\lib\\site-packages\\IPython\\kernel\\__main__.py:15: RuntimeWarning: invalid value encountered in less\n",
      "C:\\Python27\\lib\\site-packages\\IPython\\kernel\\__main__.py:19: RuntimeWarning: invalid value encountered in less\n"
     ]
    },
    {
     "data": {
      "application/javascript": [
       "var kernel = IPython.notebook.kernel;\n",
       "var thename = window.document.getElementById(\"notebook_name\").innerHTML;\n",
       "var command = \"theNotebook = \" + \"'\"+thename+\"'\";\n",
       "kernel.execute(command);"
      ],
      "text/plain": [
       "<IPython.core.display.Javascript object>"
      ]
     },
     "metadata": {},
     "output_type": "display_data"
    },
    {
     "name": "stdout",
     "output_type": "stream",
     "text": [
      "Current working directory is now c:\\users\\deen\\dropbox\\phd rearrangements\\thesis\\notebooks\\periodic-boundary-conditions\n",
      "Populating the interactive namespace from numpy and matplotlib\n",
      "Total # of packings: "
     ]
    },
    {
     "name": "stderr",
     "output_type": "stream",
     "text": [
      "WARNING: pylab import has clobbered these variables: ['savefig']\n",
      "`%matplotlib` prevents importing * from pylab and numpy\n",
      "C:\\Python27\\lib\\site-packages\\IPython\\kernel\\__main__.py:15: RuntimeWarning: invalid value encountered in absolute\n"
     ]
    },
    {
     "name": "stdout",
     "output_type": "stream",
     "text": [
      " 83006\n",
      "After (1.1):  68835\n",
      "After (1.2):  62275\n",
      "After (1.3):  61147\n",
      "After (2.1):  60232\n",
      "After (2.2):  59847\n",
      "(3):\n",
      "   512 -6.5 skipped (only 7 packings)\n",
      "   724 -7.0 skipped (only 19 packings)\n",
      "   1024 -6.83 skipped (only 4 packings)\n",
      "   1024 -6.67 skipped (only 10 packings)\n",
      "   1024 -6.5 skipped (only 17 packings)\n",
      "   1024 -6.33 skipped (only 16 packings)\n",
      "   4096 -4.0 skipped (only 12 packings)\n",
      "   4096 -3.0 skipped (only 13 packings)\n",
      "   4096 -2.0 skipped (only 18 packings)\n",
      "After (3):  59731\n"
     ]
    },
    {
     "name": "stderr",
     "output_type": "stream",
     "text": [
      "C:\\Python27\\lib\\site-packages\\IPython\\kernel\\__main__.py:15: RuntimeWarning: invalid value encountered in less\n",
      "C:\\Python27\\lib\\site-packages\\IPython\\kernel\\__main__.py:19: RuntimeWarning: invalid value encountered in less\n"
     ]
    }
   ],
   "source": [
    "%run \"! DEFAULT PLOT THINGIES.ipynb\"\n",
    "%run \"../! DEFAULT PLOT THINGIES.ipynb\""
   ]
  },
  {
   "cell_type": "code",
   "execution_count": 4,
   "metadata": {
    "collapsed": false
   },
   "outputs": [
    {
     "name": "stdout",
     "output_type": "stream",
     "text": [
      "\\includegraphics{notebooks/periodic-boundary-conditions/periodic-boundary-conditions.pdf}\n"
     ]
    },
    {
     "data": {
      "image/png": "[encoded data removed]",
      "text/plain": [
       "<matplotlib.figure.Figure at 0x9c70e50>"
      ]
     },
     "metadata": {},
     "output_type": "display_data"
    }
   ],
   "source": [
    "fullfig()\n",
    "plt.subplot(111, aspect='equal')\n",
    "plt.xlabel(\"x\")\n",
    "plt.ylabel(\"y\")\n",
    "\n",
    "lxx = 4\n",
    "lxy = 0\n",
    "lyy = 2\n",
    "lyx = 0.5\n",
    "\n",
    "x=1\n",
    "y=1\n",
    "\n",
    "plt.axhline(0, lw=0.5, color='gray')\n",
    "plt.axvline(0, lw=0.5, color='gray')\n",
    "\n",
    "for dx in [-2,-1,0,1,2]:\n",
    "    for dy in [-2,-1,0,1,2]:\n",
    "        color = 'red' if (dx == 0 and dy == 0) else 'black'\n",
    "        plt.plot(x+dx*lxx+dy*lyx, y+dy*lyy+dx*lxy, \"o\", mec=color, color='white')\n",
    "\n",
    "        \n",
    "plt.plot(0,0,\".\",color=\"black\")\n",
    "plt.axis(xmin=-4, xmax=6, ymin=-2, ymax=4)\n",
    "\n",
    "plt.annotate(\"\", (1,1,), (0,0), arrowprops=dict(arrowstyle=\"->\", shrinkA=0, shrinkB=0))\n",
    "plt.text(0.5,0.4,r\"$\\vec{r_i}$\", verticalalignment='top', horizontalalignment='left')\n",
    "\n",
    "plt.annotate(\"\", (x+lyx,y+lyy), (x,y), arrowprops=dict(arrowstyle=\"->\", shrinkA=0, shrinkB=0, color='blue', linewidth=0.5))\n",
    "plt.text(1.5,2.2, r\"$\\vec{L_y}$\", color='blue')\n",
    "plt.annotate(\"\", (x+lxx,y+lxy), (x,y), arrowprops=dict(arrowstyle=\"->\", shrinkA=0, shrinkB=0, color='blue', linewidth=0.5))\n",
    "plt.text(4.2,1.2, r\"$\\vec{L_x}$\", color='blue')\n",
    "\n",
    "plt.plot([0,0,lxx,lxx,0], [0,lyy,lyy,0,0])\n",
    "\n",
    "plt.savefig('periodic-boundary-conditions.pdf')"
   ]
  }
 ],
 "metadata": {
  "kernelspec": {
   "display_name": "Python 2",
   "language": "python",
   "name": "python2"
  },
  "language_info": {
   "codemirror_mode": {
    "name": "ipython",
    "version": 2
   },
   "file_extension": ".py",
   "mimetype": "text/x-python",
   "name": "python",
   "nbconvert_exporter": "python",
   "pygments_lexer": "ipython2",
   "version": "2.7.6"
  }
 },
 "nbformat": 4,
 "nbformat_minor": 0
}
