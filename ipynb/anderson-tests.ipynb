{
 "cells": [
  {
   "cell_type": "code",
   "execution_count": 3,
   "metadata": {
    "ExecuteTime": {
     "end_time": "2016-07-10T10:40:54.791000",
     "start_time": "2016-07-10T10:40:52.655000"
    },
    "collapsed": false
   },
   "outputs": [
    {
     "data": {
      "application/javascript": [
       " \n",
       "    var c = IPython.notebook.get_cell(0);\n",
       "    if (c.element[0].innerHTML.substr(\"! DEFAULT PLOT THINGIES.ipynb\") != 1) {\n",
       "        c.execute();\n",
       "    }"
      ]
     },
     "metadata": {},
     "output_type": "display_data"
    },
    {
     "data": {
      "application/javascript": [
       "var kernel = IPython.notebook.kernel;\n",
       "var thename = window.document.getElementById(\"notebook_name\").innerHTML;\n",
       "var command = \"theNotebook = \" + \"'\"+thename+\"'\";\n",
       "kernel.execute(command);"
      ],
      "text/plain": [
       "<IPython.core.display.Javascript object>"
      ]
     },
     "metadata": {},
     "output_type": "display_data"
    },
    {
     "name": "stdout",
     "output_type": "stream",
     "text": [
      "Current working directory is now c:\\users\\deen\\dropbox\\phd rearrangements\\thesis\\notebooks\\anderson-tests\n",
      "Populating the interactive namespace from numpy and matplotlib\n"
     ]
    },
    {
     "name": "stderr",
     "output_type": "stream",
     "text": [
      "WARNING: pylab import has clobbered these variables: ['savefig']\n",
      "`%matplotlib` prevents importing * from pylab and numpy\n"
     ]
    },
    {
     "data": {
      "application/javascript": [
       "var kernel = IPython.notebook.kernel;\n",
       "var thename = window.document.getElementById(\"notebook_name\").innerHTML;\n",
       "var command = \"theNotebook = \" + \"'\"+thename+\"'\";\n",
       "kernel.execute(command);"
      ],
      "text/plain": [
       "<IPython.core.display.Javascript object>"
      ]
     },
     "metadata": {},
     "output_type": "display_data"
    },
    {
     "name": "stdout",
     "output_type": "stream",
     "text": [
      "Current working directory is now c:\\users\\deen\\dropbox\\phd rearrangements\\thesis\\notebooks\\anderson-tests\n",
      "Populating the interactive namespace from numpy and matplotlib\n"
     ]
    },
    {
     "name": "stderr",
     "output_type": "stream",
     "text": [
      "WARNING: pylab import has clobbered these variables: ['savefig']\n",
      "`%matplotlib` prevents importing * from pylab and numpy\n"
     ]
    }
   ],
   "source": [
    "%run \"! DEFAULT PLOT THINGIES.ipynb\"\n",
    "%run \"../! DEFAULT PLOT THINGIES.ipynb\""
   ]
  },
  {
   "cell_type": "code",
   "execution_count": 2,
   "metadata": {
    "ExecuteTime": {
     "end_time": "2016-07-10T10:40:52.648000",
     "start_time": "2016-07-10T10:40:41.172000"
    },
    "collapsed": false
   },
   "outputs": [],
   "source": [
    "import scipy.stats"
   ]
  },
  {
   "cell_type": "code",
   "execution_count": 4,
   "metadata": {
    "ExecuteTime": {
     "end_time": "2016-06-20T15:05:31.885000",
     "start_time": "2016-06-20T15:05:15.349000"
    },
    "collapsed": false
   },
   "outputs": [
    {
     "name": "stdout",
     "output_type": "stream",
     "text": [
      "64 -6.5 178\n",
      "64 -3.5 185\n",
      "64 -3.0 479\n",
      "64 -2.5 192\n",
      "64 -2.0 474\n",
      "64 -1.5 191\n",
      "512 -5.5 145\n",
      "512 -4.5 171\n",
      "512 -4.0 468\n",
      "512 -3.5 190\n",
      "512 -3.0 472\n",
      "512 -2.5 185\n",
      "512 -2.0 479\n",
      "512 -1.5 188\n",
      "1024 -6.0 243\n",
      "1024 -5.0 347\n",
      "1024 -4.0 496\n",
      "1024 -3.0 551\n",
      "\\includegraphics{notebooks/anderson-tests/p-005.pdf}\n"
     ]
    },
    {
     "data": {
      "image/png": "[encoded data removed]",
      "text/plain": [
       "<matplotlib.figure.Figure at 0xe0bf650>"
      ]
     },
     "metadata": {},
     "output_type": "display_data"
    }
   ],
   "source": [
    "halffig()\n",
    "\n",
    "entries = []\n",
    "\n",
    "Ns = [16,32,64,128,256,512,1024,2048]\n",
    "lPs = sorted(unique(datalP))\n",
    "\n",
    "for iN,N in enumerate(Ns):\n",
    "    for ilP,lP in enumerate(unique(datalP)):\n",
    "        thisNPmask = (dataN == N) * (datalP == lP)\n",
    "        if sum(thisNPmask) < 3:\n",
    "            continue\n",
    "\n",
    "        d = summ[thisNPmask][\"gamma_min\"]\n",
    "        A2, critical, sig = scipy.stats.anderson(d/mean(d), 'expon')\n",
    "        \n",
    "        # tresh = 5%, dus critical[2]\n",
    "        # https://docs.scipy.org/doc/scipy/reference/generated/scipy.stats.anderson.html\n",
    "        tresh = A2 > critical[2]\n",
    "        fc = \"white\"\n",
    "        if tresh:\n",
    "            symbol = \"x\"\n",
    "            color = \"r\"\n",
    "            size = 3\n",
    "        else:\n",
    "            if sum(thisNPmask) > 100:\n",
    "                if sum(thisNPmask) > 900:\n",
    "                    fc = \"k\"\n",
    "                else:\n",
    "                                    print N,lP,sum(thisNPmask)\n",
    "                symbol = \"o\"\n",
    "                size = 2\n",
    "            else:\n",
    "                symbol = \".\"\n",
    "                size = 0.5\n",
    "            color = \"k\"\n",
    "            \n",
    "        entries.append([10**lP, N, symbol, fc, color, size])\n",
    "        plot(10**lP,N,symbol,color=fc,mec=color,ms=size)\n",
    "        #if A2 > critical[2]:\n",
    "        #    # distinguishable\n",
    "        #    kleurtjes[iN, ilP] = -log10(sum(thisNPmask))\n",
    "        #else:\n",
    "        #    kleurtjes[iN, ilP] = log10(sum(thisNPmask))\n",
    "        #unlikeliness = sum(A2 > critical)\n",
    "\n",
    "loglog()\n",
    "gca().set_yscale('log', basey=2)\n",
    "\n",
    "N = logspace(1,5)\n",
    "#plot(1/N**2, N, \"b:\")\n",
    "plot(1/(N**2 * log(N)**(-0.7)), N, \"b-.\")\n",
    "\n",
    "axis(xmin=1e-8, xmax=1e-1, ymin=8, ymax=2048)\n",
    "xticks([1e-7, 1e-5, 1e-3, 1e-1])\n",
    "yticks([16,64,256,1024], map(str, [16,64,256,1024]))\n",
    "\n",
    "ylabel(\"$N$\", rotation='horizontal')\n",
    "xlabel(\"$P$\")\n",
    "\n",
    "savefig('p-005.pdf')\n",
    "\n",
    "import pickle\n",
    "pickle.dump(entries, open('anderson-data.pickle', 'wb'))"
   ]
  }
 ],
 "metadata": {
  "kernelspec": {
   "display_name": "Python 2",
   "language": "python",
   "name": "python2"
  },
  "language_info": {
   "codemirror_mode": {
    "name": "ipython",
    "version": 2
   },
   "file_extension": ".py",
   "mimetype": "text/x-python",
   "name": "python",
   "nbconvert_exporter": "python",
   "pygments_lexer": "ipython2",
   "version": "2.7.6"
  }
 },
 "nbformat": 4,
 "nbformat_minor": 0
}
