{
 "cells": [
  {
   "cell_type": "code",
   "execution_count": 1,
   "metadata": {
    "ExecuteTime": {
     "end_time": "2016-05-22T21:26:56.090000",
     "start_time": "2016-05-22T21:26:56.079000"
    },
    "collapsed": true
   },
   "outputs": [],
   "source": [
    "# NB this notebook does not export pdfs to include in the thesis\n",
    "# but pngs/avis to make videos from"
   ]
  },
  {
   "cell_type": "code",
   "execution_count": 1,
   "metadata": {
    "ExecuteTime": {
     "end_time": "2016-05-23T14:40:30.635000",
     "start_time": "2016-05-23T14:40:13.999000"
    },
    "collapsed": true
   },
   "outputs": [],
   "source": [
    "%matplotlib inline\n",
    "from __future__ import division\n",
    "from matplotlib import pyplot as plt\n",
    "import numpy as np\n",
    "import glob\n",
    "import os\n",
    "\n",
    "import cv2\n",
    "import time\n",
    "\n",
    "import matplotlib.animation as manimation\n",
    "import StringIO"
   ]
  },
  {
   "cell_type": "code",
   "execution_count": null,
   "metadata": {
    "collapsed": true
   },
   "outputs": [],
   "source": [
    "# Fig 4.1"
   ]
  },
  {
   "cell_type": "code",
   "execution_count": 3,
   "metadata": {
    "ExecuteTime": {
     "end_time": "2016-05-22T21:23:43.524000",
     "start_time": "2016-05-22T21:23:43.494000"
    },
    "collapsed": false
   },
   "outputs": [],
   "source": [
    "def add_time_bar(frame, t):\n",
    "    font = cv2.FONT_HERSHEY_SIMPLEX\n",
    "\n",
    "    #frame[0:80,645:800,:] = 0\n",
    "\n",
    "    #cv2.rectangle(frame,(650,30),(800,0),(0,255,0),3)\n",
    "    ftime = time.strftime(\"%H:%M:%S\", time.gmtime(t))\n",
    "    cv2.putText(frame, ftime, (650,30), font, 1, (255,255,255), 2, cv2.LINE_AA)\n",
    "\n",
    "    px_per_mm = 0.0008251 / 4.95e-5\n",
    "    # 5 mm = \n",
    "    line_length = px_per_mm * 5\n",
    "    mid = (800+645)/2\n",
    "    left = int(np.round(mid - line_length/2))\n",
    "    right = int(np.round(mid + line_length/2))\n",
    "\n",
    "    cv2.line(frame,(left,40),(right,40),(255,255,255),5)\n",
    "    cv2.putText(frame,'5 mm',(670,70), font, 1, (255,255,255), 2, cv2.LINE_AA)\n",
    "    \n",
    "    return frame"
   ]
  },
  {
   "cell_type": "code",
   "execution_count": 82,
   "metadata": {
    "ExecuteTime": {
     "end_time": "2016-05-20T22:09:50.565000",
     "start_time": "2016-05-20T22:09:50.546000"
    },
    "collapsed": true
   },
   "outputs": [],
   "source": [
    "def make_video(path, outpath, skip=10, fps=25):\n",
    "    fourcc = cv2.VideoWriter_fourcc(*'IYUV')\n",
    "    out = cv2.VideoWriter(outpath, fourcc, 25, (800,800), False)  \n",
    "    try:\n",
    "        for i,fn in enumerate(sorted(glob.glob(path + \"/*.png\"))):\n",
    "            if i % skip != 0:\n",
    "                continue\n",
    "\n",
    "            frame = cv2.imread(fn)[200:1000,128:928]\n",
    "            add_time_bar(frame, i)\n",
    "            out.write(frame)\n",
    "    finally:\n",
    "        out.release()"
   ]
  },
  {
   "cell_type": "code",
   "execution_count": 83,
   "metadata": {
    "ExecuteTime": {
     "end_time": "2016-05-20T22:12:32.725000",
     "start_time": "2016-05-20T22:10:26.911000"
    },
    "collapsed": true
   },
   "outputs": [],
   "source": [
    "make_video(\n",
    "    r\"U:\\20160219 heldere verlichting grote phiset\\20160219T133851~gdot3.00000E-5~A435858823529.41174\",\n",
    "    r\"U:\\videos\\vierpunteen\\continuous-shear-phi-085.avi\"\n",
    ")"
   ]
  },
  {
   "cell_type": "code",
   "execution_count": 84,
   "metadata": {
    "ExecuteTime": {
     "end_time": "2016-05-20T22:15:01.429000",
     "start_time": "2016-05-20T22:12:32.731000"
    },
    "collapsed": true
   },
   "outputs": [],
   "source": [
    "make_video(\n",
    "    r\"U:\\20160219 heldere verlichting grote phiset\\20160220T072131~gdot3.00000E-5~A296384000000.00000\",\n",
    "    r\"U:\\videos\\vierpunteen\\continuous-shear-phi-125.avi\"\n",
    ")"
   ]
  },
  {
   "cell_type": "code",
   "execution_count": 89,
   "metadata": {
    "ExecuteTime": {
     "end_time": "2016-05-22T21:00:57.239000",
     "start_time": "2016-05-22T21:00:56.689000"
    },
    "collapsed": true
   },
   "outputs": [],
   "source": [
    "# Fig 4.5"
   ]
  },
  {
   "cell_type": "code",
   "execution_count": 43,
   "metadata": {
    "ExecuteTime": {
     "end_time": "2016-05-26T13:41:40.407000",
     "start_time": "2016-05-26T13:41:40.380000"
    },
    "collapsed": false
   },
   "outputs": [
    {
     "name": "stdout",
     "output_type": "stream",
     "text": [
      "16.6686868687\n"
     ]
    }
   ],
   "source": [
    "crop = lambda x: x[1000:200:-1,128:928]\n",
    "\n",
    "x0 = 147\n",
    "offset_x = x0-128\n",
    "y0 = 910\n",
    "offset_y = 1000-y0\n",
    "\n",
    "px_per_mm = 0.0008251 / 4.95e-5 # px/tick, mm/tick\n",
    "\n",
    "lx = 800 / px_per_mm\n",
    "offset_x = - offset_x / px_per_mm\n",
    "extent_x = [offset_x, offset_x + lx]\n",
    "\n",
    "ly = 800 / px_per_mm\n",
    "offset_y = - offset_y / px_per_mm\n",
    "extent_y = [offset_y, offset_y + ly]\n",
    "\n",
    "extent = extent_x + extent_y\n",
    "\n",
    "print px_per_mm"
   ]
  },
  {
   "cell_type": "code",
   "execution_count": 3,
   "metadata": {
    "ExecuteTime": {
     "end_time": "2016-05-23T14:40:30.874000",
     "start_time": "2016-05-23T14:40:30.651000"
    },
    "collapsed": false
   },
   "outputs": [],
   "source": [
    "def four_diff_plot(path, acpath, outpath):\n",
    "    size_in = np.array([5,4])\n",
    "    f = plt.figure(figsize=size_in)\n",
    "    dpi = 160\n",
    "    size_d = dpi * size_in\n",
    "    fourcc = cv2.VideoWriter_fourcc(*'IYUV')\n",
    "    out = cv2.VideoWriter(outpath, fourcc, 25, tuple(size_d), True)    \n",
    "    \n",
    "    try:\n",
    "        rv = _four_diff_plot(path, acpath, outpath, f, out)\n",
    "    finally:\n",
    "        out.release()\n",
    "        \n",
    "    return rv\n",
    "\n",
    "def _four_diff_plot(path, acpath, outpath, f, out):\n",
    "    ax1 = plt.subplot(2,2,1,aspect='equal')\n",
    "    ax2 = plt.subplot(2,2,2,aspect='equal')\n",
    "    ax3 = plt.subplot(2,2,3,aspect='equal')\n",
    "    ax4 = plt.subplot(2,2,4,aspect='equal')\n",
    "    plt.subplots_adjust(left=0.10, top=0.97, hspace=0.4)\n",
    "\n",
    "    ax1.axis((-1.1398618349290994,\n",
    "     46.854320688401401,\n",
    "     -5.3993455338746816,\n",
    "     42.594836989455821))\n",
    "    ax2.axis((-1.1398618349290994,\n",
    "     46.854320688401401,\n",
    "     -5.3993455338746816,\n",
    "     42.594836989455821))\n",
    "\n",
    "    ax3.set_xticks([0,1])\n",
    "    ax3.set_yticks([0,1])\n",
    "    ax4.set_xticks([0,1])\n",
    "    ax4.set_yticks([0,1])\n",
    "\n",
    "    ax1.set_xlabel(r\"$x$ [mm]\", fontsize='large')\n",
    "    ax1.set_ylabel(r\"$y$ [mm]\")\n",
    "    ax2.set_xlabel(r\"$x$ [mm]\")\n",
    "    ax2.set_ylabel(r\"$y$ [mm]\")\n",
    "    ax3.set_xlabel(r\"$\\tilde x$\")\n",
    "    ax3.set_ylabel(r\"$\\tilde y$\")\n",
    "    ax4.set_xlabel(r\"$\\tilde x$\")\n",
    "    ax4.set_ylabel(r\"$\\tilde y$\")\n",
    "\n",
    "    im1 = im2 = im3 = im4 = None\n",
    "\n",
    "    n_frames = 1300\n",
    "    skip = 10\n",
    "\n",
    "    imgdata = StringIO.StringIO()\n",
    "\n",
    "\n",
    "\n",
    "            \n",
    "    t = f.text(0.99,0.01,\"00:00:00\",va='bottom',ha='right', fontdict=dict(family='monospace'))\n",
    "    \n",
    "    for i in range(0, (n_frames+1)*skip, skip):\n",
    "        cur = crop(plt.imread(path % i))\n",
    "        curac = np.load(acpath % i)\n",
    "        \n",
    "        ftime = time.strftime(\"%H:%M:%S\", time.gmtime(i))\n",
    "        t.set_text(ftime)\n",
    "\n",
    "        if i == 0:\n",
    "            prev = cur\n",
    "            prevac = curac\n",
    "            im1 = ax1.imshow(cur, cmap='gray', vmin=0.1, vmax=0.8, extent=extent, origin='lower')\n",
    "            im2 = ax2.imshow(cur-prev, cmap='RdBu', vmin=-0.05, vmax=+0.05, extent=extent, origin='lower')\n",
    "            im3 = ax3.imshow(curac, cmap='gray', vmin=0.1, vmax=0.8, extent=(0,1,0,1), origin='lower')\n",
    "            im4 = ax4.imshow(curac-prevac, cmap='RdBu', vmin=-0.05, vmax=0.05, extent=(0,1,0,1), origin='lower')\n",
    "\n",
    "            cb = plt.colorbar(im4, ax=[ax1,ax2,ax3,ax4], aspect=40, fraction=0.05)\n",
    "            cb.set_ticks([-0.05,0,0.05])\n",
    "            cb.set_ticklabels(['-0.05',\"\",\"0.05\"])\n",
    "            cb.set_label(r\"$\\langle \\Delta I^2 \\rangle$\", labelpad=-15)\n",
    "        else:\n",
    "            im1.set_data(cur)\n",
    "            im2.set_data(cur-prev)\n",
    "            im3.set_data(curac)\n",
    "            im4.set_data(curac-prevac)\n",
    "\n",
    "\n",
    "        f.savefig(imgdata, format='raw', dpi=160)\n",
    "        imgdata.seek(0)\n",
    "        data = np.fromstring(imgdata.buf, dtype='uint8').reshape(list(size_d[::-1]) + [4])[:,:,:3][:,:,::-1]\n",
    "        out.write(data)\n",
    "\n",
    "        prev = cur\n",
    "        prevac = curac"
   ]
  },
  {
   "cell_type": "code",
   "execution_count": null,
   "metadata": {
    "ExecuteTime": {
     "start_time": "2016-05-22T20:32:25.414Z"
    },
    "collapsed": false
   },
   "outputs": [],
   "source": [
    "four_diff_plot(\n",
    "    path = r\"U:\\20160219 heldere verlichting grote phiset\\20160220T072131~gdot3.00000E-5~A296384000000.00000\\%05i.png\",\n",
    "    acpath = r\"U:\\20160219 heldere verlichting grote phiset\\crop\\20160220T072131~gdot3.00000E-5~A296384000000.00000\\%05i.npy\",\n",
    "    outpath = r\"U:\\videos\\vierpuntvijf-125.avi\"\n",
    ")"
   ]
  },
  {
   "cell_type": "code",
   "execution_count": null,
   "metadata": {
    "ExecuteTime": {
     "start_time": "2016-05-22T20:32:46.502Z"
    },
    "collapsed": true
   },
   "outputs": [],
   "source": [
    "four_diff_plot(\n",
    "    path = r\"U:\\20160219 heldere verlichting grote phiset\\20160219T133851~gdot3.00000E-5~A435858823529.41174\\%05i.png\",\n",
    "    acpath = r\"U:\\20160219 heldere verlichting grote phiset\\crop\\20160219T133851~gdot3.00000E-5~A435858823529.41174\\%05i.npy\",\n",
    "    outpath = r\"U:\\videos\\vierpuntvijf-085.avi\"\n",
    ")"
   ]
  },
  {
   "cell_type": "code",
   "execution_count": 4,
   "metadata": {
    "ExecuteTime": {
     "end_time": "2016-05-23T14:40:31.040000",
     "start_time": "2016-05-23T14:40:30.879000"
    },
    "collapsed": false
   },
   "outputs": [
    {
     "name": "stdout",
     "output_type": "stream",
     "text": [
      "16.6686868687 px per mm\n"
     ]
    }
   ],
   "source": [
    "# 4.7 particle tracking examples\n",
    "zeroB = 755.5\n",
    "zeroCD = 947.4\n",
    "px_per_tick = 0.0008251\n",
    "x0 = 147\n",
    "y0 = 913\n",
    "\n",
    "px_per_mm = px_per_tick / 4.95e-5 # mm/tick\n",
    "print px_per_mm, \"px per mm\"\n",
    "\n",
    "def get_data(position_data, particle_data, affine_corrected):\n",
    "    position_data = np.loadtxt(position_data)\n",
    "    fps = 1/np.mean(np.diff(position_data[:,0]))\n",
    "    \n",
    "    particle_data = np.load(particle_data)\n",
    "    \n",
    "    X = particle_data[\"X\"]\n",
    "    Y = particle_data[\"Y\"]\n",
    "    r = particle_data[\"r\"]\n",
    "    \n",
    "    Bticks = position_data[:,2]\n",
    "    CDticks = position_data[:,3]\n",
    "\n",
    "    Bpos = zeroB + Bticks*px_per_tick\n",
    "    CDpos = zeroCD + CDticks*px_per_tick\n",
    "\n",
    "    if affine_corrected:\n",
    "        X = (X-x0) / CDpos[:,np.newaxis]\n",
    "        Y = (y0-Y) / Bpos[:,np.newaxis]\n",
    "    \n",
    "    #else:\n",
    "    #    X = (X-x0) / px_per_tick * 4.95e-5 # mm/tick\n",
    "    #    Y = - ((Y-y0) / px_per_tick * 4.95e-5) # mm/tick\n",
    "        \n",
    "    return X,Y,r,CDpos,Bpos\n",
    "\n",
    "\n"
   ]
  },
  {
   "cell_type": "code",
   "execution_count": 21,
   "metadata": {
    "ExecuteTime": {
     "end_time": "2016-05-23T14:50:51.827000",
     "start_time": "2016-05-23T14:50:51.701000"
    },
    "collapsed": false
   },
   "outputs": [],
   "source": [
    "def track_ex_plot(measurement, outpath):\n",
    "    size_px = np.array([800,400])\n",
    "    dpi = 160.\n",
    "    size_in = np.float_(size_px)/dpi\n",
    "    print size_in\n",
    "    \n",
    "    f = plt.figure(figsize=size_in)\n",
    "    fourcc = cv2.VideoWriter_fourcc(*'IYUV')\n",
    "    out = cv2.VideoWriter(outpath, fourcc, 25, tuple(size_px), True)    \n",
    "    \n",
    "    try:\n",
    "        rv = _track_ex_plot(measurement, f, out, size_px, dpi)\n",
    "    finally:\n",
    "        out.release()\n",
    "        \n",
    "    return rv\n",
    "\n",
    "def _track_ex_plot(measurement, f, out, size_px, dpi):\n",
    "    basepath = r\"U:\\20160219 heldere verlichting grote phiset\"\n",
    "\n",
    "    impath = os.path.join(basepath, measurement, '%05i.png')\n",
    "    poscsv = os.path.join(basepath, measurement, 'position.csv')\n",
    "    croppath = os.path.join(basepath, 'crop', measurement, '%05i.npy')\n",
    "    trackpath = os.path.join(\"U:/Particle track data\", measurement+\".npz\")\n",
    "\n",
    "    X,Y,r,lXpx,lYpx = get_data(poscsv, trackpath, False)\n",
    "    Xmm = (X-x0)/px_per_mm\n",
    "    Ymm = (y0-Y)/px_per_mm\n",
    "    acX,acY,_,_,_ = get_data(poscsv, trackpath, True)   \n",
    "    \n",
    "    n_frames = 1300\n",
    "    skip = 10\n",
    "\n",
    "    imgdata = StringIO.StringIO()\n",
    "\n",
    "    t = f.text(0.99,0.01,\"00:00:00\",va='bottom',ha='right', fontdict=dict(family='monospace'))\n",
    "    \n",
    "    ax1 = plt.subplot(1,2,1,aspect='equal')\n",
    "    ax2 = plt.subplot(1,2,2,aspect='equal')\n",
    "    plt.subplots_adjust(left=0.12, top=0.99, right=0.95, bottom=0.08, hspace=0.4, wspace=0.4)\n",
    "    \n",
    "    for i in range(0, (n_frames+1)*skip, skip):\n",
    "        ax1.set_xlabel(r\"$x$ [mm]\")\n",
    "        ax1.set_ylabel(r\"$y$ [mm]\")\n",
    "        ax2.set_xlabel(r\"$\\tilde x$\")\n",
    "        ax2.set_ylabel(r\"$\\tilde y$\")\n",
    "        \n",
    "        ax1.axis((-1.1398618349290994,\n",
    "         46.854320688401401,\n",
    "         -5.3993455338746816,\n",
    "         42.594836989455821))\n",
    "        ax2.axis((0,1,0,1))\n",
    "        \n",
    "        cur = crop(plt.imread(impath % i))\n",
    "        curac = np.load(croppath % i)\n",
    "        \n",
    "        ftime = time.strftime(\"%H:%M:%S\", time.gmtime(i))\n",
    "        t.set_text(ftime)\n",
    "\n",
    "        ax1.imshow(cur, cmap='gray', vmin=0.1, vmax=0.8, extent=extent, origin='lower')\n",
    "        ax2.imshow(curac, cmap='gray', vmin=0.1, vmax=0.8, extent=(0,1,0,1), origin='lower')\n",
    "        \n",
    "        ax1.plot(Xmm[:i], Ymm[:i], color='white', lw=0.5)\n",
    "        ax2.plot(acX[:i], acY[:i], color='white', lw=0.5)\n",
    "    \n",
    "        f.savefig(imgdata, format='raw', dpi=dpi)\n",
    "        imgdata.seek(0)\n",
    "        data = np.fromstring(imgdata.buf, dtype='uint8').reshape(list(size_px[::-1]) + [4])[:,:,:3][:,:,::-1]\n",
    "        out.write(data)\n",
    "        \n",
    "        #plt.savefig('c:/users/deen/dropbox/test.png', dpi=dpi)\n",
    "        #break  \n",
    "        ax1.cla()\n",
    "        ax2.cla()"
   ]
  },
  {
   "cell_type": "code",
   "execution_count": null,
   "metadata": {
    "ExecuteTime": {
     "start_time": "2016-05-23T12:50:47.158Z"
    },
    "collapsed": false
   },
   "outputs": [
    {
     "name": "stdout",
     "output_type": "stream",
     "text": [
      "[ 5.   2.5]\n"
     ]
    }
   ],
   "source": [
    "track_ex_plot(\n",
    "measurement='20160219T133851~gdot3.00000E-5~A435858823529.41174',\n",
    "outpath=r\"U:\\videos\\vierpuntzeven-085.avi\")"
   ]
  },
  {
   "cell_type": "code",
   "execution_count": null,
   "metadata": {
    "ExecuteTime": {
     "start_time": "2016-05-23T12:52:39.303Z"
    },
    "collapsed": true
   },
   "outputs": [],
   "source": [
    "track_ex_plot(\n",
    "measurement='20160220T072131~gdot3.00000E-5~A296384000000.00000',\n",
    "outpath=r\"U:\\videos\\vierpuntzeven-125.avi\")"
   ]
  },
  {
   "cell_type": "code",
   "execution_count": 50,
   "metadata": {
    "ExecuteTime": {
     "end_time": "2016-05-26T13:45:03.913000",
     "start_time": "2016-05-26T13:45:03.887000"
    },
    "collapsed": false
   },
   "outputs": [
    {
     "name": "stdout",
     "output_type": "stream",
     "text": [
      "16.6686868687\n"
     ]
    }
   ],
   "source": [
    "crop = lambda x: x[1000:0:-1,128:1128]\n",
    "\n",
    "x0 = 147\n",
    "offset_x = x0-128\n",
    "y0 = 840\n",
    "offset_y = 1000-y0\n",
    "\n",
    "px_per_mm = 0.0008251 / 4.95e-5 # px/tick, mm/tick\n",
    "\n",
    "lx = 1000 / px_per_mm\n",
    "offset_x = - offset_x / px_per_mm\n",
    "extent_x = [offset_x, offset_x + lx]\n",
    "\n",
    "ly = 1000 / px_per_mm\n",
    "offset_y = - offset_y / px_per_mm\n",
    "extent_y = [offset_y, offset_y + ly]\n",
    "\n",
    "extent = extent_x + extent_y\n",
    "\n",
    "print px_per_mm\n",
    "\n"
   ]
  },
  {
   "cell_type": "code",
   "execution_count": 140,
   "metadata": {
    "ExecuteTime": {
     "end_time": "2016-05-27T13:13:37.132000",
     "start_time": "2016-05-27T13:00:41.801000"
    },
    "collapsed": false
   },
   "outputs": [
    {
     "name": "stdout",
     "output_type": "stream",
     "text": [
      "[ 5.   2.5]\n",
      "A at t=0: 2521.9 mm2\n",
      "deltaA at t=0: 209.4 mm2\n",
      "Aj: 2312.5 mm2\n",
      "Afoam: 1947.2 mm2\n",
      "Phi at t=0: 0.77\n"
     ]
    },
    {
     "name": "stderr",
     "output_type": "stream",
     "text": [
      "C:\\Python27\\lib\\site-packages\\ipykernel\\__main__.py:70: DeprecationWarning: using a non-integer number instead of an integer will result in an error in the future\n",
      "C:\\Python27\\lib\\site-packages\\ipykernel\\__main__.py:71: DeprecationWarning: using a non-integer number instead of an integer will result in an error in the future\n",
      "C:\\Python27\\lib\\site-packages\\ipykernel\\__main__.py:72: DeprecationWarning: using a non-integer number instead of an integer will result in an error in the future\n"
     ]
    },
    {
     "data": {
      "image/png": "[encoded data removed]",
      "text/plain": [
       "<matplotlib.figure.Figure at 0x24e000b0>"
      ]
     },
     "metadata": {},
     "output_type": "display_data"
    }
   ],
   "source": [
    "import matplotlib.gridspec as gridspec\n",
    "\n",
    "outpath = r\"U:\\videos\\vierpuntelf.avi\"\n",
    "basepath = r\"U:\\20151006 kleinere compressie\"\n",
    "measurement = r\"20151012T024959\"\n",
    "\n",
    "if True: #def track_ex_plot(measurement, outpath):\n",
    "    size_px = np.array([800,400])\n",
    "    dpi = 160.\n",
    "    size_in = np.float_(size_px)/dpi\n",
    "    print size_in\n",
    "    \n",
    "    f = plt.figure(figsize=size_in)\n",
    "\n",
    "    fourcc = cv2.VideoWriter_fourcc(*'IYUV')\n",
    "    out = cv2.VideoWriter(outpath, fourcc, 25, tuple(size_px), True)    \n",
    "    \n",
    "    #try:\n",
    "    #    rv = _track_ex_plot(measurement, f, out, size_px, dpi)\n",
    "    #finally:\n",
    "    #    out.release()\n",
    "        \n",
    "    #return rv\n",
    "\n",
    "\n",
    "\n",
    "\n",
    "B0 = 916000\n",
    "CD0 = 1144000\n",
    "\n",
    "cst = 4.95e-5 # mm/pulse\n",
    "cim = 60e-3 # mm/px \n",
    "\n",
    "deltaA_px2 = 58167 # px^2\n",
    "deltaA_mm2 = deltaA_px2 * (cim)**2\n",
    "\n",
    "t,frameno,Bpos,CDpos = np.loadtxt(os.path.join(basepath, measurement, 'position.csv')).T\n",
    "\n",
    "A_pl2 = (B0+Bpos) * (CD0+CDpos)\n",
    "A_mm2 = A_pl2 * (cst)**2\n",
    "\n",
    "print \"A at t=0: %.1f mm2\" % (A_mm2[0])\n",
    "print \"deltaA at t=0: %.1f mm2\" % (deltaA_mm2)\n",
    "\n",
    "Aj_mm2 = A_mm2[0] - deltaA_mm2\n",
    "Afoam_mm2 = Aj_mm2 * 0.842\n",
    "\n",
    "print \"Aj: %.1f mm2\" % Aj_mm2\n",
    "print \"Afoam: %.1f mm2\" % Afoam_mm2\n",
    "\n",
    "print \"Phi at t=0: %.2f\" % (Afoam_mm2 / A_mm2[0])\n",
    "\n",
    "phi = Afoam_mm2 / A_mm2\n",
    "\n",
    "vardata = np.load(os.path.join(basepath, 'vardt', measurement, \"alldt.npy\")) / (200*200)\n",
    "fitdata = np.load(os.path.join(basepath, 'vardt', measurement, \"power_fit.npy\"))\n",
    "A = fitdata[:,0] / (200*200)\n",
    "beta = fitdata[:,1]\n",
    "\n",
    "import matplotlib\n",
    "norm = matplotlib.colors.LogNorm(vmin=3e-5, vmax=1e-3)\n",
    "cmap = plt.get_cmap('viridis')\n",
    "\n",
    "if True: #def _track_ex_plot(measurement, f, out, size_px, dpi):\n",
    "    impath = os.path.join(basepath, measurement, '%05i.png')\n",
    "    poscsv = os.path.join(basepath, measurement, 'position.csv')\n",
    "    croppath = os.path.join(basepath, 'crop', measurement, '%05i.npy')\n",
    "    \n",
    "    total_frames = len(glob.glob(os.path.join(basepath, measurement, \"*.png\")))\n",
    "    vardata = vardata[:,:total_frames/2]\n",
    "    A = A[:total_frames/2]\n",
    "    beta = beta[:total_frames/2]\n",
    "    \n",
    "    n_frames = np.int(total_frames / 2 / 10) # alleen eerste helft is relevant\n",
    "    skip = 10\n",
    "\n",
    "    imgdata = StringIO.StringIO()\n",
    "\n",
    "    t = f.text(0.12,0.99,\"00:00:00\",va='top',ha='left', fontdict=dict(family='monospace'))\n",
    "    \n",
    "    gs = gridspec.GridSpec(3, 2)\n",
    "    ax1 = plt.subplot(gs[:,0], aspect='equal')\n",
    "    \n",
    "    ax_var = plt.subplot(gs[0,1])\n",
    "    #ax_vdt = plt.subplot(gs[1,1])\n",
    "    ax_A = plt.subplot(gs[1,1])\n",
    "    ax_beta = plt.subplot(gs[2,1])\n",
    "\n",
    "    ax_var.set_ylabel(r\"$\\Delta t$ [s]\")\n",
    "    ax_var.set_xticklabels([])\n",
    "    ax_var.set_ylim(0,20)\n",
    "    ax_var.set_yticks([5,10,15,20])\n",
    "    m = ax_var.imshow(\n",
    "        vardata,\n",
    "        origin='lower',\n",
    "        aspect='auto',\n",
    "        interpolation='nearest',\n",
    "        norm=norm,\n",
    "        cmap=cmap\n",
    "    )\n",
    "    \n",
    "    #ax_vdt.set_ylabel(r\"$\\langle \\Delta I^2 \\rangle$\" + \"\\n\" + r\"$[\\times 10^{-3}]$\")\n",
    "    #ax_vdt.set_xticklabels([])\n",
    "    #ax_vdt.set_ylim(0, 4e-3)\n",
    "    #ax_vdt.set_yticks([1e-3,2e-3,3e-3])\n",
    "    #ax_vdt.set_yticklabels([1,2,3])\n",
    "    \n",
    "    ax_A.set_ylabel(r'$\\log_{10}\\, A$')\n",
    "    ax_A.set_xticklabels([])\n",
    "    ax_A.set_yscale('log')\n",
    "    ax_A.set_ylim(1e-8, 1e-3)\n",
    "    ax_A.set_yticks([1e-8,1e-6,1e-4])\n",
    "    ax_A.set_yticklabels([-8, -6, -4])\n",
    "    ax_A.set_yticks([1e-7,1e-6,1e-4,1e-3], minor=True)\n",
    "    ax_A.plot(A)\n",
    "       \n",
    "    ax_beta.set_ylabel(r'$\\beta$')\n",
    "    ax_beta.set_xlabel(r'$t$ [s]')\n",
    "    ax_beta.set_ylim(0,3)\n",
    "    ax_beta.set_yticks([0,1,2])\n",
    "    ax_beta.plot(beta)\n",
    "\n",
    "    ax_var.set_xticks(np.arange(0,total_frames,250), minor=True)\n",
    "    ax_A.set_xticks(np.arange(0,total_frames,250), minor=True)\n",
    "    ax_beta.set_xticks(np.arange(0,total_frames,250), minor=True)\n",
    "    ax_var.set_xticks(np.arange(0,total_frames,1000))\n",
    "    ax_A.set_xticks(np.arange(0,total_frames,1000))\n",
    "    ax_beta.set_xticks(np.arange(0,total_frames,1000))\n",
    "\n",
    "    plt.subplots_adjust(left=0.12, top=0.97, right=0.95, bottom=0.18, hspace=0.05, wspace=0.4)\n",
    "    \n",
    "    cb = plt.colorbar(m, ax=[ax_var, ax_A, ax_beta], fraction=0.1)    \n",
    "    cb.set_label(r'$\\langle\\Delta I^2\\rangle$', labelpad=-10)\n",
    "    cb.set_ticks([3e-5, 1e-3])\n",
    "    cb.set_ticklabels([r\"$3\\times 10^{-5}$\", r\"$10^{-3}$\"])\n",
    "    plt.setp(cb.ax.get_ymajorticklabels(), rotation=90)\n",
    "    cb.ax.get_ymajorticklabels()[1].set_va('top')\n",
    "   \n",
    "    #vlines = [ax_var.axvline(0), ax_A.axvline(0), ax_beta.axvline(0)]\n",
    "\n",
    "    for i in range(0, (n_frames+1)*skip, skip):\n",
    "        ax_var.set_xlim(i, i+1000)\n",
    "        ax_A.set_xlim(i, i+1000)\n",
    "        ax_beta.set_xlim(i, i+1000)\n",
    "        \n",
    "        # [a.set_data(([i,i],[0,1])) for a in vlines]\n",
    "        \n",
    "        ax1.set_xlabel(r\"$x$ [mm]\")\n",
    "        ax1.set_ylabel(r\"$y$ [mm]\")\n",
    "        \n",
    "        #ax1.axis((-1.1398618349290994,\n",
    "        # 46.854320688401401,\n",
    "        # -5.3993455338746816,\n",
    "        # 42.594836989455821))\n",
    "        #ax2.axis((0,1,0,1))\n",
    "        \n",
    "        cur = crop(plt.imread(impath % i))\n",
    "        curac = np.load(croppath % i)\n",
    "        \n",
    "        ftime = time.strftime(\"%H:%M:%S\", time.gmtime(i)) + \" (%i s)\" % i\n",
    "        t.set_text(ftime)\n",
    "\n",
    "        ax1.imshow(cur, cmap='gray', vmin=0.1, vmax=0.8, extent=extent, origin='lower')\n",
    "        \n",
    "        ax1.text(0.01,0.01,r\"$\\phi=%.2f$\" % phi[i],\n",
    "                 transform=ax1.transAxes,\n",
    "                 ha='left',va='bottom',color='white',\n",
    "                bbox=dict(facecolor='black', pad=0),\n",
    "        )\n",
    "        #print ax1.axis()\n",
    "        \n",
    "        ##plt.savefig('c:/users/deen/dropbox/test.png', dpi=dpi)\n",
    "        #break  \n",
    "        f.savefig(imgdata, format='raw', dpi=dpi)\n",
    "        imgdata.seek(0)\n",
    "        data = np.fromstring(imgdata.buf, dtype='uint8').reshape(list(size_px[::-1]) + [4])[:,:,:3][:,:,::-1]\n",
    "        out.write(data)\n",
    "        \n",
    "        ax1.cla()\n",
    "        \n",
    "out.release()"
   ]
  },
  {
   "cell_type": "code",
   "execution_count": 168,
   "metadata": {
    "ExecuteTime": {
     "end_time": "2016-05-27T16:12:45.891000",
     "start_time": "2016-05-27T16:12:45.536000"
    },
    "collapsed": false
   },
   "outputs": [],
   "source": [
    "crop = lambda x: x[1000:200:-1,128:928]\n",
    "\n",
    "x0 = 164\n",
    "offset_x = x0-128\n",
    "y0 = 956\n",
    "offset_y = 1000-y0\n",
    "px_per_tick = 0.000785\n",
    "px_per_mm = px_per_tick / 4.95e-5 # px/tick, mm/tick\n",
    "\n",
    "lx = 800 / px_per_mm\n",
    "offset_x = - offset_x / px_per_mm\n",
    "extent_x = [offset_x, offset_x + lx]\n",
    "\n",
    "ly = 800 / px_per_mm\n",
    "offset_y = - offset_y / px_per_mm\n",
    "extent_y = [offset_y, offset_y + ly]\n",
    "\n",
    "extent = extent_x + extent_y\n",
    "\n",
    "import matplotlib.gridspec as gridspec\n",
    "\n",
    "basepath = r\"U:\\20150907 3e-5\"\n",
    "\n",
    "def track_vierpuntveertien(measurement, outpath):\n",
    "    size_px = np.array([800,400])\n",
    "    dpi = 160.\n",
    "    size_in = np.float_(size_px)/dpi\n",
    "    print size_in\n",
    "    \n",
    "    f = plt.figure(figsize=size_in)\n",
    "\n",
    "    fourcc = cv2.VideoWriter_fourcc(*'IYUV')\n",
    "    out = cv2.VideoWriter(outpath, fourcc, 25, tuple(size_px), True)    \n",
    "    \n",
    "    try:\n",
    "        rv = _track_ex_plot(measurement, f, out, size_px, dpi)\n",
    "    finally:\n",
    "        out.release()\n",
    "        \n",
    "    #return rv\n",
    "\n",
    "def _track_ex_plot(measurement, f, out, size_px, dpi):\n",
    "    import matplotlib\n",
    "    norm = matplotlib.colors.LogNorm(vmin=3e-5, vmax=1e-3)\n",
    "    cmap = plt.get_cmap('viridis')\n",
    "    \n",
    "    impath = os.path.join(basepath, measurement, '%05i.png')\n",
    "    poscsv = os.path.join(basepath, measurement, 'position.csv')\n",
    "    croppath = os.path.join(basepath, 'crop', measurement, '%05i.npy')\n",
    "    \n",
    "    vardata = np.load(os.path.join(basepath, 'vardt', measurement, \"metingen.npz\"))['variances'] / (200*200)\n",
    "    fitdata = np.load(os.path.join(basepath, 'vardt', measurement, \"power_fit.npy\"))\n",
    "    A = fitdata[:,0] / (200*200)\n",
    "    beta = fitdata[:,1]\n",
    "    \n",
    "    n_frames = 1300\n",
    "    skip = 10\n",
    "\n",
    "    imgdata = StringIO.StringIO()\n",
    "\n",
    "    t = f.text(0.12,0.99,\"00:00:00\",va='top',ha='left', fontdict=dict(family='monospace'))\n",
    "    \n",
    "    gs = gridspec.GridSpec(3, 2)\n",
    "    ax1 = plt.subplot(gs[:,0], aspect='equal')\n",
    "    \n",
    "    ax_var = plt.subplot(gs[0,1])\n",
    "    #ax_vdt = plt.subplot(gs[1,1])\n",
    "    ax_A = plt.subplot(gs[1,1])\n",
    "    ax_beta = plt.subplot(gs[2,1])\n",
    "\n",
    "    ax_var.set_ylabel(r\"$\\Delta t$ [s]\")\n",
    "    ax_var.set_xticklabels([])\n",
    "    ax_var.set_ylim(0,20)\n",
    "    ax_var.set_yticks([5,10,15,20])\n",
    "    m = ax_var.imshow(\n",
    "        vardata,\n",
    "        origin='lower',\n",
    "        aspect='auto',\n",
    "        interpolation='nearest',\n",
    "        norm=norm,\n",
    "        cmap=cmap\n",
    "    )\n",
    "    \n",
    "    #ax_vdt.set_ylabel(r\"$\\langle \\Delta I^2 \\rangle$\" + \"\\n\" + r\"$[\\times 10^{-3}]$\")\n",
    "    #ax_vdt.set_xticklabels([])\n",
    "    #ax_vdt.set_ylim(0, 4e-3)\n",
    "    #ax_vdt.set_yticks([1e-3,2e-3,3e-3])\n",
    "    #ax_vdt.set_yticklabels([1,2,3])\n",
    "    \n",
    "    ax_A.set_ylabel(r'$\\log_{10}\\, A$')\n",
    "    ax_A.set_xticklabels([])\n",
    "    ax_A.set_yscale('log')\n",
    "    ax_A.set_ylim(1e-8, 1e-3)\n",
    "    ax_A.set_yticks([1e-8,1e-6,1e-4])\n",
    "    ax_A.set_yticklabels([-8, -6, -4])\n",
    "    ax_A.set_yticks([1e-7,1e-6,1e-4,1e-3], minor=True)\n",
    "    ax_A.plot(A)\n",
    "       \n",
    "    ax_beta.set_ylabel(r'$\\beta$')\n",
    "    ax_beta.set_xlabel(r'$t$ [s]')\n",
    "    ax_beta.set_ylim(0,3)\n",
    "    ax_beta.set_yticks([0,1,2])\n",
    "    ax_beta.plot(beta)\n",
    "\n",
    "    ax_var.set_xticks(np.arange(0,total_frames,250), minor=True)\n",
    "    ax_A.set_xticks(np.arange(0,total_frames,250), minor=True)\n",
    "    ax_beta.set_xticks(np.arange(0,total_frames,250), minor=True)\n",
    "    ax_var.set_xticks(np.arange(0,total_frames,1000))\n",
    "    ax_A.set_xticks(np.arange(0,total_frames,1000))\n",
    "    ax_beta.set_xticks(np.arange(0,total_frames,1000))\n",
    "\n",
    "    plt.subplots_adjust(left=0.12, top=0.97, right=0.95, bottom=0.18, hspace=0.05, wspace=0.4)\n",
    "    \n",
    "    cb = plt.colorbar(m, ax=[ax_var, ax_A, ax_beta], fraction=0.1)    \n",
    "    cb.set_label(r'$\\langle\\Delta I^2\\rangle$', labelpad=-10)\n",
    "    cb.set_ticks([3e-5, 1e-3])\n",
    "    cb.set_ticklabels([r\"$3\\times 10^{-5}$\", r\"$10^{-3}$\"])\n",
    "    plt.setp(cb.ax.get_ymajorticklabels(), rotation=90)\n",
    "    cb.ax.get_ymajorticklabels()[1].set_va('top')\n",
    "   \n",
    "    #vlines = [ax_var.axvline(0), ax_A.axvline(0), ax_beta.axvline(0)]\n",
    "\n",
    "    for i in range(0, (n_frames+1)*skip, skip):\n",
    "        ax_var.set_xlim(i, i+1000)\n",
    "        ax_A.set_xlim(i, i+1000)\n",
    "        ax_beta.set_xlim(i, i+1000)\n",
    "        \n",
    "        # [a.set_data(([i,i],[0,1])) for a in vlines]\n",
    "        \n",
    "        ax1.set_xlabel(r\"$x$ [mm]\")\n",
    "        ax1.set_ylabel(r\"$y$ [mm]\")\n",
    "        \n",
    "        #ax1.axis((-1.1398618349290994,\n",
    "        # 46.854320688401401,\n",
    "        # -5.3993455338746816,\n",
    "        # 42.594836989455821))\n",
    "        #ax2.axis((0,1,0,1))\n",
    "        \n",
    "        cur = crop(plt.imread(impath % i))\n",
    "        curac = np.load(croppath % i)\n",
    "        \n",
    "        ftime = time.strftime(\"%H:%M:%S\", time.gmtime(i)) + \" (%i s)\" % i\n",
    "        t.set_text(ftime)\n",
    "\n",
    "        ax1.imshow(cur, cmap='gray', vmin=0.01, vmax=0.15, extent=extent, origin='lower')\n",
    "        \n",
    "        f.savefig(imgdata, format='raw', dpi=dpi)\n",
    "        imgdata.seek(0)\n",
    "        data = np.fromstring(imgdata.buf, dtype='uint8').reshape(list(size_px[::-1]) + [4])[:,:,:3][:,:,::-1]\n",
    "        out.write(data)\n",
    "        \n",
    "        ax1.cla()\n",
    "        \n",
    "out.release()"
   ]
  },
  {
   "cell_type": "code",
   "execution_count": 172,
   "metadata": {
    "ExecuteTime": {
     "end_time": "2016-05-27T16:28:44.089000",
     "start_time": "2016-05-27T16:28:44.057000"
    },
    "collapsed": false
   },
   "outputs": [
    {
     "name": "stdout",
     "output_type": "stream",
     "text": [
      "[[ 0.09816454  0.53405421  0.13908185  0.34705419  0.43051844  0.32648541\n",
      "   0.19230409  0.96500228  0.5143888   0.22383111]\n",
      " [ 0.56528526  0.99226645  0.67024025  0.87055463  0.9087186   0.9959438\n",
      "   0.62751443  0.55398108  0.21461402  0.88363218]\n",
      " [ 0.49456465  0.888581    0.66825419  0.53191594  0.06090968  0.07539048\n",
      "   0.75893509  0.98625752  0.41679172  0.68517962]\n",
      " [ 0.27677692  0.77532395  0.40237486  0.96918624  0.39356655  0.98089233\n",
      "   0.92242198  0.01881502  0.11580677  0.89037086]\n",
      " [ 0.69766277  0.34242477  0.40819769  0.45654804  0.33211318  0.86562775\n",
      "   0.87052863  0.86483388  0.22412295  0.67278983]\n",
      " [ 0.05758066  0.68266726  0.76724652  0.76897619  0.64537633  0.02284215\n",
      "   0.22161648  0.2824435   0.75893294  0.33105522]\n",
      " [ 0.63448615  0.24718568  0.96985133  0.06194145  0.18445823  0.85440389\n",
      "   0.37809863  0.11107787  0.1908837   0.4318765 ]\n",
      " [ 0.05883037  0.59502285  0.35388853  0.05666917  0.95584471  0.74227765\n",
      "   0.54237245  0.65007668  0.42230354  0.00896854]\n",
      " [ 0.10250307  0.44484785  0.12195826  0.48307824  0.91458812  0.81438591\n",
      "   0.34027888  0.0577681   0.19581583  0.70487355]\n",
      " [ 0.30473888  0.46262705  0.6089063   0.29297706  0.0955651   0.36691632\n",
      "   0.09024378  0.10027918  0.9307203   0.42657116]]\n"
     ]
    },
    {
     "data": {
      "text/plain": [
       "array([ 0.66825419,  0.06090968,  0.07539048])"
      ]
     },
     "execution_count": 172,
     "metadata": {},
     "output_type": "execute_result"
    }
   ],
   "source": [
    "m = np.random.rand(10,10)\n",
    "print m\n",
    "\n",
    "m[2,[2,4,5]]"
   ]
  },
  {
   "cell_type": "code",
   "execution_count": 169,
   "metadata": {
    "ExecuteTime": {
     "end_time": "2016-05-27T16:19:58.011000",
     "start_time": "2016-05-27T16:12:47.090000"
    },
    "collapsed": false
   },
   "outputs": [
    {
     "name": "stdout",
     "output_type": "stream",
     "text": [
      "[ 5.   2.5]\n"
     ]
    },
    {
     "data": {
      "image/png": "[encoded data removed]",
      "text/plain": [
       "<matplotlib.figure.Figure at 0x1c7f3650>"
      ]
     },
     "metadata": {},
     "output_type": "display_data"
    }
   ],
   "source": [
    "outpath = r\"U:\\videos\\vierpuntveertien-085.avi\"\n",
    "measurement = r\"20150907T204511~gdot3.00000E-5~A520000000000.00000\"\n",
    "track_vierpuntveertien(measurement, outpath)"
   ]
  },
  {
   "cell_type": "code",
   "execution_count": 170,
   "metadata": {
    "ExecuteTime": {
     "end_time": "2016-05-27T16:26:59.547000",
     "start_time": "2016-05-27T16:19:58.013000"
    },
    "collapsed": false
   },
   "outputs": [
    {
     "name": "stdout",
     "output_type": "stream",
     "text": [
      "[ 5.   2.5]\n"
     ]
    },
    {
     "data": {
      "image/png": "[encoded data removed]",
      "text/plain": [
       "<matplotlib.figure.Figure at 0x1b14e9d0>"
      ]
     },
     "metadata": {},
     "output_type": "display_data"
    }
   ],
   "source": [
    "outpath = r\"U:\\videos\\vierpuntveertien-150.avi\"\n",
    "measurement = r\"20150907T160911~gdot3.00000E-5~A520000000000.00000\"\n",
    "track_vierpuntveertien(measurement, outpath)"
   ]
  },
  {
   "cell_type": "code",
   "execution_count": 49,
   "metadata": {
    "ExecuteTime": {
     "end_time": "2016-05-26T13:44:57.376000",
     "start_time": "2016-05-26T13:44:56.898000"
    },
    "collapsed": false
   },
   "outputs": [
    {
     "data": {
      "text/plain": [
       "<matplotlib.lines.Line2D at 0x9a9c490>"
      ]
     },
     "execution_count": 49,
     "metadata": {},
     "output_type": "execute_result"
    },
    {
     "data": {
      "image/png": "[encoded data removed]",
      "text/plain": [
       "<matplotlib.figure.Figure at 0x998d050>"
      ]
     },
     "metadata": {},
     "output_type": "display_data"
    }
   ],
   "source": [
    "# finally, fig 4.14 (x2)\n",
    "\n",
    "basepath = r\"U:\\20150907 3e-5\"\n",
    "measurements = \n",
    "{0.9: r\"20150907T204511~gdot3.00000E-5~A520000000000.00000\",\n",
    " 1.5: r\"20150907T160911~gdot3.00000E-5~A520000000000.00000\",\n",
    "}\n",
    "\n"
   ]
  }
 ],
 "metadata": {
  "kernelspec": {
   "display_name": "Python 2",
   "language": "python",
   "name": "python2"
  },
  "language_info": {
   "codemirror_mode": {
    "name": "ipython",
    "version": 2
   },
   "file_extension": ".py",
   "mimetype": "text/x-python",
   "name": "python",
   "nbconvert_exporter": "python",
   "pygments_lexer": "ipython2",
   "version": "2.7.6"
  }
 },
 "nbformat": 4,
 "nbformat_minor": 0
}
